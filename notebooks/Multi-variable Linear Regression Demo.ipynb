{
 "cells": [
  {
   "cell_type": "markdown",
   "metadata": {},
   "source": [
    "# Multi-variable linear regression"
   ]
  },
  {
   "cell_type": "code",
   "execution_count": null,
   "metadata": {},
   "outputs": [],
   "source": [
    "import opengrid as og\n",
    "import pandas as pd"
   ]
  },
  {
   "cell_type": "code",
   "execution_count": null,
   "metadata": {},
   "outputs": [],
   "source": [
    "%matplotlib inline"
   ]
  },
  {
   "cell_type": "code",
   "execution_count": null,
   "metadata": {},
   "outputs": [],
   "source": [
    "df = og.datasets.get('gas_2016_hour')\n",
    "dfw = og.datasets.get('weather_2016_hour')"
   ]
  },
  {
   "cell_type": "markdown",
   "metadata": {},
   "source": [
    "### We want to create a model for one of the gas counters. We will create both a daily and a monthly model. \n",
    "\n",
    "First we have to compute (different definitions of) degree-days. We also put together both dataframes to get a single dataframe. "
   ]
  },
  {
   "cell_type": "code",
   "execution_count": null,
   "metadata": {},
   "outputs": [],
   "source": [
    "dfw = dfw.resample('D').mean()\n",
    "dfw_HDD = og.library.weather.compute_degree_days(ts=dfw['temperature'],\n",
    "                                                  heating_base_temperatures=range(8, 18, 2),\n",
    "                                                  cooling_base_temperatures=range(16, 26, 2)).bfill()\n",
    "dfw_HDD = pd.concat([dfw, dfw_HDD], axis=1)\n",
    "\n",
    "df_day = df.resample('D').sum()/1000. # kWh/day\n",
    "df_day = pd.concat([df_day, dfw_HDD], axis=1).loc['2016']\n",
    "df_month = df_day.resample('MS').sum()\n",
    "print(df_day.info())\n",
    "print(df_month.info())"
   ]
  },
  {
   "cell_type": "code",
   "execution_count": null,
   "metadata": {},
   "outputs": [],
   "source": [
    "list_of_exog = df_month.columns.tolist()\n",
    "# remove columns we don't want to include in the regression analysis\n",
    "fo\n",
    "mvlr = og.MultiVarLinReg(df_month, endog='313b', list_of_exog=list_of_exog)"
   ]
  },
  {
   "cell_type": "code",
   "execution_count": null,
   "metadata": {},
   "outputs": [],
   "source": [
    "print(mvlr.fit.summary())\n",
    "mvlr.plot()"
   ]
  },
  {
   "cell_type": "code",
   "execution_count": null,
   "metadata": {},
   "outputs": [],
   "source": [
    ""
   ]
  }
 ],
 "metadata": {
  "kernelspec": {
   "display_name": "Python 3",
   "language": "python",
   "name": "python3"
  },
  "language_info": {
   "codemirror_mode": {
    "name": "ipython",
    "version": 3.0
   },
   "file_extension": ".py",
   "mimetype": "text/x-python",
   "name": "python",
   "nbconvert_exporter": "python",
   "pygments_lexer": "ipython3",
   "version": "3.5.2"
  }
 },
 "nbformat": 4,
 "nbformat_minor": 0
}